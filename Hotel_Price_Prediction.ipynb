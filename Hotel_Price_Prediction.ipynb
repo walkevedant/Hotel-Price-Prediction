{
  "nbformat": 4,
  "nbformat_minor": 0,
  "metadata": {
    "colab": {
      "provenance": [],
      "gpuType": "T4"
    },
    "kernelspec": {
      "name": "python3",
      "display_name": "Python 3"
    },
    "language_info": {
      "name": "python"
    }
  },
  "cells": [
    {
      "cell_type": "markdown",
      "source": [
        "This project aims at predicting hotel prices for better optimization of revenue using machine learning techniques. The dataset is collected from Expedia.com and has shape of 1324526 rows and 22 columns.\n",
        "\n",
        "Expedia Group, Inc. is an American online travel shopping company for consumer and small business travel.\n",
        "\n",
        "Expedia is the world’s largest online travel agency (OTA) and powers search results for millions of travel shoppers every day. In this competitive market matching users to hotel inventory is very important since users easily jump from website to website. As such, having the best ranking of hotels (“sort”) for specific users with the best integration of price competitiveness gives an OTA the best chance of winning the sale."
      ],
      "metadata": {
        "id": "pJodqIT_GoME"
      }
    },
    {
      "cell_type": "markdown",
      "source": [
        "###Importing required libraries"
      ],
      "metadata": {
        "id": "uLj5Yk1UIXeg"
      }
    },
    {
      "cell_type": "code",
      "source": [
        "import pandas as pd\n",
        "import numpy as np\n",
        "import matplotlib.pyplot as plt\n",
        "import seaborn as sns\n",
        "from sklearn.model_selection import train_test_split as tts"
      ],
      "metadata": {
        "id": "bbb-95QCBwOh"
      },
      "execution_count": 1,
      "outputs": []
    },
    {
      "cell_type": "markdown",
      "source": [
        "###Loading the Dataset"
      ],
      "metadata": {
        "id": "-By02xYDIc_e"
      }
    },
    {
      "cell_type": "code",
      "execution_count": 2,
      "metadata": {
        "id": "1vSd_KG06Hro"
      },
      "outputs": [],
      "source": [
        "data=pd.read_csv(\"/content/drive/MyDrive/Hotel Price Prediction/Hotel_Data_final.csv\")"
      ]
    },
    {
      "cell_type": "markdown",
      "source": [
        "###Exploratory Data Analysis"
      ],
      "metadata": {
        "id": "r48K0YacIge7"
      }
    },
    {
      "cell_type": "code",
      "source": [
        "data.dtypes, data.shape"
      ],
      "metadata": {
        "colab": {
          "base_uri": "https://localhost:8080/"
        },
        "id": "GI2S5ipT6fhO",
        "outputId": "daed9628-da03-454c-cf22-0e41e4378ed5"
      },
      "execution_count": 3,
      "outputs": [
        {
          "output_type": "execute_result",
          "data": {
            "text/plain": [
              "(srch_id                          int64\n",
              " date_time                       object\n",
              " site_id                          int64\n",
              " visitor_location_country_id      int64\n",
              " prop_country_id                  int64\n",
              " prop_id                          int64\n",
              " prop_starrating                  int64\n",
              " prop_review_score              float64\n",
              " prop_brand_bool                  int64\n",
              " prop_location_score1           float64\n",
              " prop_location_score2           float64\n",
              " prop_log_historical_price      float64\n",
              " price_usd                      float64\n",
              " promotion_flag                   int64\n",
              " srch_destination_id              int64\n",
              " srch_length_of_stay              int64\n",
              " srch_booking_window              int64\n",
              " srch_adults_count                int64\n",
              " srch_children_count              int64\n",
              " srch_room_count                  int64\n",
              " srch_saturday_night_bool         int64\n",
              " random_bool                      int64\n",
              " dtype: object,\n",
              " (1324526, 22))"
            ]
          },
          "metadata": {},
          "execution_count": 3
        }
      ]
    },
    {
      "cell_type": "code",
      "source": [
        "data.isna().sum()"
      ],
      "metadata": {
        "colab": {
          "base_uri": "https://localhost:8080/"
        },
        "id": "oJviGtyL_5QZ",
        "outputId": "c5a43ff1-c918-47fa-9a83-2d1ea465a539"
      },
      "execution_count": 4,
      "outputs": [
        {
          "output_type": "execute_result",
          "data": {
            "text/plain": [
              "srch_id                             0\n",
              "date_time                           0\n",
              "site_id                             0\n",
              "visitor_location_country_id         0\n",
              "prop_country_id                     0\n",
              "prop_id                             0\n",
              "prop_starrating                     0\n",
              "prop_review_score                1888\n",
              "prop_brand_bool                     0\n",
              "prop_location_score1                0\n",
              "prop_location_score2           291468\n",
              "prop_log_historical_price           0\n",
              "price_usd                           0\n",
              "promotion_flag                      0\n",
              "srch_destination_id                 0\n",
              "srch_length_of_stay                 0\n",
              "srch_booking_window                 0\n",
              "srch_adults_count                   0\n",
              "srch_children_count                 0\n",
              "srch_room_count                     0\n",
              "srch_saturday_night_bool            0\n",
              "random_bool                         0\n",
              "dtype: int64"
            ]
          },
          "metadata": {},
          "execution_count": 4
        }
      ]
    },
    {
      "cell_type": "code",
      "source": [
        "data[\"srch_id\"].unique()"
      ],
      "metadata": {
        "colab": {
          "base_uri": "https://localhost:8080/"
        },
        "id": "I_0AV1_s6kNt",
        "outputId": "8fbc395c-843b-4309-bde2-ccb7ad060835"
      },
      "execution_count": 5,
      "outputs": [
        {
          "output_type": "execute_result",
          "data": {
            "text/plain": [
              "array([119593, 548492, 348295, ..., 420135, 620122, 291740])"
            ]
          },
          "metadata": {},
          "execution_count": 5
        }
      ]
    },
    {
      "cell_type": "code",
      "source": [
        "data.head()"
      ],
      "metadata": {
        "colab": {
          "base_uri": "https://localhost:8080/",
          "height": 429
        },
        "id": "fys6Tg8E7MMi",
        "outputId": "3527a64c-695d-4d61-a6ec-52afc2a450ca"
      },
      "execution_count": 6,
      "outputs": [
        {
          "output_type": "execute_result",
          "data": {
            "text/plain": [
              "   srch_id            date_time  site_id  visitor_location_country_id  \\\n",
              "0   119593  2013-02-25 09:50:36        5                          219   \n",
              "1   548492  2013-02-12 05:23:56        5                          129   \n",
              "2   348295  2012-12-10 17:02:56        5                          219   \n",
              "3    39250  2013-01-26 13:45:18       29                          220   \n",
              "4   509068  2013-05-26 12:50:23       14                          100   \n",
              "\n",
              "   prop_country_id  prop_id  prop_starrating  prop_review_score  \\\n",
              "0              219    31767                2                3.5   \n",
              "1              132    88742                4                4.0   \n",
              "2              219    41438                3                4.5   \n",
              "3              132   108768                4                4.0   \n",
              "4              100    78377                0                4.0   \n",
              "\n",
              "   prop_brand_bool  prop_location_score1  ...  price_usd  promotion_flag  \\\n",
              "0                1                  1.79  ...      50.00               0   \n",
              "1                1                  1.39  ...      75.00               0   \n",
              "2                1                  2.40  ...     129.00               0   \n",
              "3                1                  1.95  ...      80.78               1   \n",
              "4                1                  3.74  ...     148.28               0   \n",
              "\n",
              "   srch_destination_id  srch_length_of_stay  srch_booking_window  \\\n",
              "0                14506                    1                    3   \n",
              "1                26554                    3                   31   \n",
              "2                16550                    1                    0   \n",
              "3                 1815                    3                    5   \n",
              "4                20216                    1                    6   \n",
              "\n",
              "   srch_adults_count  srch_children_count  srch_room_count  \\\n",
              "0                  2                    0                2   \n",
              "1                  1                    2                1   \n",
              "2                  2                    0                1   \n",
              "3                  2                    1                1   \n",
              "4                  2                    0                1   \n",
              "\n",
              "   srch_saturday_night_bool  random_bool  \n",
              "0                         1            0  \n",
              "1                         1            0  \n",
              "2                         0            0  \n",
              "3                         1            0  \n",
              "4                         1            1  \n",
              "\n",
              "[5 rows x 22 columns]"
            ],
            "text/html": [
              "\n",
              "  <div id=\"df-3eb8f77a-c741-451c-9225-b9ebd74cdb34\" class=\"colab-df-container\">\n",
              "    <div>\n",
              "<style scoped>\n",
              "    .dataframe tbody tr th:only-of-type {\n",
              "        vertical-align: middle;\n",
              "    }\n",
              "\n",
              "    .dataframe tbody tr th {\n",
              "        vertical-align: top;\n",
              "    }\n",
              "\n",
              "    .dataframe thead th {\n",
              "        text-align: right;\n",
              "    }\n",
              "</style>\n",
              "<table border=\"1\" class=\"dataframe\">\n",
              "  <thead>\n",
              "    <tr style=\"text-align: right;\">\n",
              "      <th></th>\n",
              "      <th>srch_id</th>\n",
              "      <th>date_time</th>\n",
              "      <th>site_id</th>\n",
              "      <th>visitor_location_country_id</th>\n",
              "      <th>prop_country_id</th>\n",
              "      <th>prop_id</th>\n",
              "      <th>prop_starrating</th>\n",
              "      <th>prop_review_score</th>\n",
              "      <th>prop_brand_bool</th>\n",
              "      <th>prop_location_score1</th>\n",
              "      <th>...</th>\n",
              "      <th>price_usd</th>\n",
              "      <th>promotion_flag</th>\n",
              "      <th>srch_destination_id</th>\n",
              "      <th>srch_length_of_stay</th>\n",
              "      <th>srch_booking_window</th>\n",
              "      <th>srch_adults_count</th>\n",
              "      <th>srch_children_count</th>\n",
              "      <th>srch_room_count</th>\n",
              "      <th>srch_saturday_night_bool</th>\n",
              "      <th>random_bool</th>\n",
              "    </tr>\n",
              "  </thead>\n",
              "  <tbody>\n",
              "    <tr>\n",
              "      <th>0</th>\n",
              "      <td>119593</td>\n",
              "      <td>2013-02-25 09:50:36</td>\n",
              "      <td>5</td>\n",
              "      <td>219</td>\n",
              "      <td>219</td>\n",
              "      <td>31767</td>\n",
              "      <td>2</td>\n",
              "      <td>3.5</td>\n",
              "      <td>1</td>\n",
              "      <td>1.79</td>\n",
              "      <td>...</td>\n",
              "      <td>50.00</td>\n",
              "      <td>0</td>\n",
              "      <td>14506</td>\n",
              "      <td>1</td>\n",
              "      <td>3</td>\n",
              "      <td>2</td>\n",
              "      <td>0</td>\n",
              "      <td>2</td>\n",
              "      <td>1</td>\n",
              "      <td>0</td>\n",
              "    </tr>\n",
              "    <tr>\n",
              "      <th>1</th>\n",
              "      <td>548492</td>\n",
              "      <td>2013-02-12 05:23:56</td>\n",
              "      <td>5</td>\n",
              "      <td>129</td>\n",
              "      <td>132</td>\n",
              "      <td>88742</td>\n",
              "      <td>4</td>\n",
              "      <td>4.0</td>\n",
              "      <td>1</td>\n",
              "      <td>1.39</td>\n",
              "      <td>...</td>\n",
              "      <td>75.00</td>\n",
              "      <td>0</td>\n",
              "      <td>26554</td>\n",
              "      <td>3</td>\n",
              "      <td>31</td>\n",
              "      <td>1</td>\n",
              "      <td>2</td>\n",
              "      <td>1</td>\n",
              "      <td>1</td>\n",
              "      <td>0</td>\n",
              "    </tr>\n",
              "    <tr>\n",
              "      <th>2</th>\n",
              "      <td>348295</td>\n",
              "      <td>2012-12-10 17:02:56</td>\n",
              "      <td>5</td>\n",
              "      <td>219</td>\n",
              "      <td>219</td>\n",
              "      <td>41438</td>\n",
              "      <td>3</td>\n",
              "      <td>4.5</td>\n",
              "      <td>1</td>\n",
              "      <td>2.40</td>\n",
              "      <td>...</td>\n",
              "      <td>129.00</td>\n",
              "      <td>0</td>\n",
              "      <td>16550</td>\n",
              "      <td>1</td>\n",
              "      <td>0</td>\n",
              "      <td>2</td>\n",
              "      <td>0</td>\n",
              "      <td>1</td>\n",
              "      <td>0</td>\n",
              "      <td>0</td>\n",
              "    </tr>\n",
              "    <tr>\n",
              "      <th>3</th>\n",
              "      <td>39250</td>\n",
              "      <td>2013-01-26 13:45:18</td>\n",
              "      <td>29</td>\n",
              "      <td>220</td>\n",
              "      <td>132</td>\n",
              "      <td>108768</td>\n",
              "      <td>4</td>\n",
              "      <td>4.0</td>\n",
              "      <td>1</td>\n",
              "      <td>1.95</td>\n",
              "      <td>...</td>\n",
              "      <td>80.78</td>\n",
              "      <td>1</td>\n",
              "      <td>1815</td>\n",
              "      <td>3</td>\n",
              "      <td>5</td>\n",
              "      <td>2</td>\n",
              "      <td>1</td>\n",
              "      <td>1</td>\n",
              "      <td>1</td>\n",
              "      <td>0</td>\n",
              "    </tr>\n",
              "    <tr>\n",
              "      <th>4</th>\n",
              "      <td>509068</td>\n",
              "      <td>2013-05-26 12:50:23</td>\n",
              "      <td>14</td>\n",
              "      <td>100</td>\n",
              "      <td>100</td>\n",
              "      <td>78377</td>\n",
              "      <td>0</td>\n",
              "      <td>4.0</td>\n",
              "      <td>1</td>\n",
              "      <td>3.74</td>\n",
              "      <td>...</td>\n",
              "      <td>148.28</td>\n",
              "      <td>0</td>\n",
              "      <td>20216</td>\n",
              "      <td>1</td>\n",
              "      <td>6</td>\n",
              "      <td>2</td>\n",
              "      <td>0</td>\n",
              "      <td>1</td>\n",
              "      <td>1</td>\n",
              "      <td>1</td>\n",
              "    </tr>\n",
              "  </tbody>\n",
              "</table>\n",
              "<p>5 rows × 22 columns</p>\n",
              "</div>\n",
              "    <div class=\"colab-df-buttons\">\n",
              "\n",
              "  <div class=\"colab-df-container\">\n",
              "    <button class=\"colab-df-convert\" onclick=\"convertToInteractive('df-3eb8f77a-c741-451c-9225-b9ebd74cdb34')\"\n",
              "            title=\"Convert this dataframe to an interactive table.\"\n",
              "            style=\"display:none;\">\n",
              "\n",
              "  <svg xmlns=\"http://www.w3.org/2000/svg\" height=\"24px\" viewBox=\"0 -960 960 960\">\n",
              "    <path d=\"M120-120v-720h720v720H120Zm60-500h600v-160H180v160Zm220 220h160v-160H400v160Zm0 220h160v-160H400v160ZM180-400h160v-160H180v160Zm440 0h160v-160H620v160ZM180-180h160v-160H180v160Zm440 0h160v-160H620v160Z\"/>\n",
              "  </svg>\n",
              "    </button>\n",
              "\n",
              "  <style>\n",
              "    .colab-df-container {\n",
              "      display:flex;\n",
              "      gap: 12px;\n",
              "    }\n",
              "\n",
              "    .colab-df-convert {\n",
              "      background-color: #E8F0FE;\n",
              "      border: none;\n",
              "      border-radius: 50%;\n",
              "      cursor: pointer;\n",
              "      display: none;\n",
              "      fill: #1967D2;\n",
              "      height: 32px;\n",
              "      padding: 0 0 0 0;\n",
              "      width: 32px;\n",
              "    }\n",
              "\n",
              "    .colab-df-convert:hover {\n",
              "      background-color: #E2EBFA;\n",
              "      box-shadow: 0px 1px 2px rgba(60, 64, 67, 0.3), 0px 1px 3px 1px rgba(60, 64, 67, 0.15);\n",
              "      fill: #174EA6;\n",
              "    }\n",
              "\n",
              "    .colab-df-buttons div {\n",
              "      margin-bottom: 4px;\n",
              "    }\n",
              "\n",
              "    [theme=dark] .colab-df-convert {\n",
              "      background-color: #3B4455;\n",
              "      fill: #D2E3FC;\n",
              "    }\n",
              "\n",
              "    [theme=dark] .colab-df-convert:hover {\n",
              "      background-color: #434B5C;\n",
              "      box-shadow: 0px 1px 3px 1px rgba(0, 0, 0, 0.15);\n",
              "      filter: drop-shadow(0px 1px 2px rgba(0, 0, 0, 0.3));\n",
              "      fill: #FFFFFF;\n",
              "    }\n",
              "  </style>\n",
              "\n",
              "    <script>\n",
              "      const buttonEl =\n",
              "        document.querySelector('#df-3eb8f77a-c741-451c-9225-b9ebd74cdb34 button.colab-df-convert');\n",
              "      buttonEl.style.display =\n",
              "        google.colab.kernel.accessAllowed ? 'block' : 'none';\n",
              "\n",
              "      async function convertToInteractive(key) {\n",
              "        const element = document.querySelector('#df-3eb8f77a-c741-451c-9225-b9ebd74cdb34');\n",
              "        const dataTable =\n",
              "          await google.colab.kernel.invokeFunction('convertToInteractive',\n",
              "                                                    [key], {});\n",
              "        if (!dataTable) return;\n",
              "\n",
              "        const docLinkHtml = 'Like what you see? Visit the ' +\n",
              "          '<a target=\"_blank\" href=https://colab.research.google.com/notebooks/data_table.ipynb>data table notebook</a>'\n",
              "          + ' to learn more about interactive tables.';\n",
              "        element.innerHTML = '';\n",
              "        dataTable['output_type'] = 'display_data';\n",
              "        await google.colab.output.renderOutput(dataTable, element);\n",
              "        const docLink = document.createElement('div');\n",
              "        docLink.innerHTML = docLinkHtml;\n",
              "        element.appendChild(docLink);\n",
              "      }\n",
              "    </script>\n",
              "  </div>\n",
              "\n",
              "\n",
              "<div id=\"df-8de21a3e-401c-4ef4-9292-d423d3f83803\">\n",
              "  <button class=\"colab-df-quickchart\" onclick=\"quickchart('df-8de21a3e-401c-4ef4-9292-d423d3f83803')\"\n",
              "            title=\"Suggest charts\"\n",
              "            style=\"display:none;\">\n",
              "\n",
              "<svg xmlns=\"http://www.w3.org/2000/svg\" height=\"24px\"viewBox=\"0 0 24 24\"\n",
              "     width=\"24px\">\n",
              "    <g>\n",
              "        <path d=\"M19 3H5c-1.1 0-2 .9-2 2v14c0 1.1.9 2 2 2h14c1.1 0 2-.9 2-2V5c0-1.1-.9-2-2-2zM9 17H7v-7h2v7zm4 0h-2V7h2v10zm4 0h-2v-4h2v4z\"/>\n",
              "    </g>\n",
              "</svg>\n",
              "  </button>\n",
              "\n",
              "<style>\n",
              "  .colab-df-quickchart {\n",
              "      --bg-color: #E8F0FE;\n",
              "      --fill-color: #1967D2;\n",
              "      --hover-bg-color: #E2EBFA;\n",
              "      --hover-fill-color: #174EA6;\n",
              "      --disabled-fill-color: #AAA;\n",
              "      --disabled-bg-color: #DDD;\n",
              "  }\n",
              "\n",
              "  [theme=dark] .colab-df-quickchart {\n",
              "      --bg-color: #3B4455;\n",
              "      --fill-color: #D2E3FC;\n",
              "      --hover-bg-color: #434B5C;\n",
              "      --hover-fill-color: #FFFFFF;\n",
              "      --disabled-bg-color: #3B4455;\n",
              "      --disabled-fill-color: #666;\n",
              "  }\n",
              "\n",
              "  .colab-df-quickchart {\n",
              "    background-color: var(--bg-color);\n",
              "    border: none;\n",
              "    border-radius: 50%;\n",
              "    cursor: pointer;\n",
              "    display: none;\n",
              "    fill: var(--fill-color);\n",
              "    height: 32px;\n",
              "    padding: 0;\n",
              "    width: 32px;\n",
              "  }\n",
              "\n",
              "  .colab-df-quickchart:hover {\n",
              "    background-color: var(--hover-bg-color);\n",
              "    box-shadow: 0 1px 2px rgba(60, 64, 67, 0.3), 0 1px 3px 1px rgba(60, 64, 67, 0.15);\n",
              "    fill: var(--button-hover-fill-color);\n",
              "  }\n",
              "\n",
              "  .colab-df-quickchart-complete:disabled,\n",
              "  .colab-df-quickchart-complete:disabled:hover {\n",
              "    background-color: var(--disabled-bg-color);\n",
              "    fill: var(--disabled-fill-color);\n",
              "    box-shadow: none;\n",
              "  }\n",
              "\n",
              "  .colab-df-spinner {\n",
              "    border: 2px solid var(--fill-color);\n",
              "    border-color: transparent;\n",
              "    border-bottom-color: var(--fill-color);\n",
              "    animation:\n",
              "      spin 1s steps(1) infinite;\n",
              "  }\n",
              "\n",
              "  @keyframes spin {\n",
              "    0% {\n",
              "      border-color: transparent;\n",
              "      border-bottom-color: var(--fill-color);\n",
              "      border-left-color: var(--fill-color);\n",
              "    }\n",
              "    20% {\n",
              "      border-color: transparent;\n",
              "      border-left-color: var(--fill-color);\n",
              "      border-top-color: var(--fill-color);\n",
              "    }\n",
              "    30% {\n",
              "      border-color: transparent;\n",
              "      border-left-color: var(--fill-color);\n",
              "      border-top-color: var(--fill-color);\n",
              "      border-right-color: var(--fill-color);\n",
              "    }\n",
              "    40% {\n",
              "      border-color: transparent;\n",
              "      border-right-color: var(--fill-color);\n",
              "      border-top-color: var(--fill-color);\n",
              "    }\n",
              "    60% {\n",
              "      border-color: transparent;\n",
              "      border-right-color: var(--fill-color);\n",
              "    }\n",
              "    80% {\n",
              "      border-color: transparent;\n",
              "      border-right-color: var(--fill-color);\n",
              "      border-bottom-color: var(--fill-color);\n",
              "    }\n",
              "    90% {\n",
              "      border-color: transparent;\n",
              "      border-bottom-color: var(--fill-color);\n",
              "    }\n",
              "  }\n",
              "</style>\n",
              "\n",
              "  <script>\n",
              "    async function quickchart(key) {\n",
              "      const quickchartButtonEl =\n",
              "        document.querySelector('#' + key + ' button');\n",
              "      quickchartButtonEl.disabled = true;  // To prevent multiple clicks.\n",
              "      quickchartButtonEl.classList.add('colab-df-spinner');\n",
              "      try {\n",
              "        const charts = await google.colab.kernel.invokeFunction(\n",
              "            'suggestCharts', [key], {});\n",
              "      } catch (error) {\n",
              "        console.error('Error during call to suggestCharts:', error);\n",
              "      }\n",
              "      quickchartButtonEl.classList.remove('colab-df-spinner');\n",
              "      quickchartButtonEl.classList.add('colab-df-quickchart-complete');\n",
              "    }\n",
              "    (() => {\n",
              "      let quickchartButtonEl =\n",
              "        document.querySelector('#df-8de21a3e-401c-4ef4-9292-d423d3f83803 button');\n",
              "      quickchartButtonEl.style.display =\n",
              "        google.colab.kernel.accessAllowed ? 'block' : 'none';\n",
              "    })();\n",
              "  </script>\n",
              "</div>\n",
              "\n",
              "    </div>\n",
              "  </div>\n"
            ],
            "application/vnd.google.colaboratory.intrinsic+json": {
              "type": "dataframe",
              "variable_name": "data"
            }
          },
          "metadata": {},
          "execution_count": 6
        }
      ]
    },
    {
      "cell_type": "markdown",
      "source": [
        "###Removing Outliers from data"
      ],
      "metadata": {
        "id": "XHjUIKxXInDy"
      }
    },
    {
      "cell_type": "code",
      "source": [
        "plt.boxplot(data[\"price_usd\"])"
      ],
      "metadata": {
        "colab": {
          "base_uri": "https://localhost:8080/",
          "height": 584
        },
        "id": "iJ-U9w6_IcRA",
        "outputId": "f55d4c81-989a-4aeb-c05c-b4e60cfe2233"
      },
      "execution_count": 7,
      "outputs": [
        {
          "output_type": "execute_result",
          "data": {
            "text/plain": [
              "{'whiskers': [<matplotlib.lines.Line2D at 0x7e7fb8e502b0>,\n",
              "  <matplotlib.lines.Line2D at 0x7e7fb8e50550>],\n",
              " 'caps': [<matplotlib.lines.Line2D at 0x7e7fb8e507f0>,\n",
              "  <matplotlib.lines.Line2D at 0x7e7fb8e50a90>],\n",
              " 'boxes': [<matplotlib.lines.Line2D at 0x7e7fb8e0ffd0>],\n",
              " 'medians': [<matplotlib.lines.Line2D at 0x7e7fb8e50d30>],\n",
              " 'fliers': [<matplotlib.lines.Line2D at 0x7e7fb8e50fd0>],\n",
              " 'means': []}"
            ]
          },
          "metadata": {},
          "execution_count": 7
        },
        {
          "output_type": "display_data",
          "data": {
            "text/plain": [
              "<Figure size 640x480 with 1 Axes>"
            ],
            "image/png": "[encoded data removed]"
          },
          "metadata": {}
        }
      ]
    },
    {
      "cell_type": "code",
      "source": [
        "Q1 = data['price_usd'].quantile(0.25)\n",
        "Q3 = data['price_usd'].quantile(0.75)\n",
        "IQR = Q3 - Q1\n",
        "\n",
        "lower_bound = Q1 - 1.5 * IQR\n",
        "upper_bound = Q3 + 1.5 * IQR\n",
        "\n",
        "data_filtered = data[(data['price_usd'] >= lower_bound) & (data['price_usd'] <= upper_bound)]"
      ],
      "metadata": {
        "id": "YTC4YbKJBF6v"
      },
      "execution_count": 8,
      "outputs": []
    },
    {
      "cell_type": "code",
      "source": [
        "sns.boxplot(data_filtered[\"price_usd\"])"
      ],
      "metadata": {
        "colab": {
          "base_uri": "https://localhost:8080/",
          "height": 432
        },
        "id": "xqtQv-IYBERo",
        "outputId": "36a1a3a8-d220-4c19-d018-987c7181166c"
      },
      "execution_count": 9,
      "outputs": [
        {
          "output_type": "execute_result",
          "data": {
            "text/plain": [
              "<Axes: ylabel='price_usd'>"
            ]
          },
          "metadata": {},
          "execution_count": 9
        },
        {
          "output_type": "display_data",
          "data": {
            "text/plain": [
              "<Figure size 640x480 with 1 Axes>"
            ],
            "image/png": "[encoded data removed]"
          },
          "metadata": {}
        }
      ]
    },
    {
      "cell_type": "markdown",
      "source": [
        "###Converting timestamp data into numerical features"
      ],
      "metadata": {
        "id": "m8BXOuarIsTD"
      }
    },
    {
      "cell_type": "code",
      "source": [
        "import datetime\n",
        "data_filtered[\"date_time\"]=pd.to_datetime(data_filtered[\"date_time\"],format = \"%Y-%m-%d %H:%M:%S\")\n",
        "data_filtered[\"month\"]=data_filtered[\"date_time\"].dt.month\n",
        "data_filtered[\"Year\"]=data_filtered[\"date_time\"].dt.year\n",
        "data_filtered[\"day_of_week\"]=data_filtered[\"date_time\"].dt.dayofweek\n",
        "data_filtered[\"hour\"]=data_filtered[\"date_time\"].dt.hour\n",
        "data_filtered[\"min\"]=data_filtered[\"date_time\"].dt.minute\n"
      ],
      "metadata": {
        "id": "wSiBsfigBGOm"
      },
      "execution_count": null,
      "outputs": []
    },
    {
      "cell_type": "code",
      "source": [
        "data_filtered.isna().sum()"
      ],
      "metadata": {
        "colab": {
          "base_uri": "https://localhost:8080/"
        },
        "id": "IL75ZAvyBGRk",
        "outputId": "251bd1d1-29f6-4c37-ef69-96d887a18968"
      },
      "execution_count": 11,
      "outputs": [
        {
          "output_type": "execute_result",
          "data": {
            "text/plain": [
              "srch_id                             0\n",
              "date_time                           0\n",
              "site_id                             0\n",
              "visitor_location_country_id         0\n",
              "prop_country_id                     0\n",
              "prop_id                             0\n",
              "prop_starrating                     0\n",
              "prop_review_score                1819\n",
              "prop_brand_bool                     0\n",
              "prop_location_score1                0\n",
              "prop_location_score2           278450\n",
              "prop_log_historical_price           0\n",
              "price_usd                           0\n",
              "promotion_flag                      0\n",
              "srch_destination_id                 0\n",
              "srch_length_of_stay                 0\n",
              "srch_booking_window                 0\n",
              "srch_adults_count                   0\n",
              "srch_children_count                 0\n",
              "srch_room_count                     0\n",
              "srch_saturday_night_bool            0\n",
              "random_bool                         0\n",
              "month                               0\n",
              "Year                                0\n",
              "day_of_week                         0\n",
              "hour                                0\n",
              "min                                 0\n",
              "dtype: int64"
            ]
          },
          "metadata": {},
          "execution_count": 11
        }
      ]
    },
    {
      "cell_type": "code",
      "source": [
        "data_filtered['Year'].unique()"
      ],
      "metadata": {
        "colab": {
          "base_uri": "https://localhost:8080/"
        },
        "id": "s1qEyi0wbNql",
        "outputId": "db6345dc-8dc1-418e-c6ed-c9912f822702"
      },
      "execution_count": 12,
      "outputs": [
        {
          "output_type": "execute_result",
          "data": {
            "text/plain": [
              "array([2013, 2012])"
            ]
          },
          "metadata": {},
          "execution_count": 12
        }
      ]
    },
    {
      "cell_type": "markdown",
      "source": [
        "###Imputing values inplace of null values for columns \"prop_review_score\" and \"prop_location_score2\""
      ],
      "metadata": {
        "id": "9QcgkqpdI50o"
      }
    },
    {
      "cell_type": "code",
      "source": [
        "prop_review_score_mean=data_filtered[\"prop_review_score\"].mean()\n",
        "prop_location_score2_mean=data_filtered[\"prop_location_score2\"].mean()\n",
        "data_filtered[\"prop_review_score\"]=data_filtered[\"prop_review_score\"].fillna(prop_review_score_mean)\n",
        "data_filtered[\"prop_location_score2\"]=data_filtered[\"prop_location_score2\"].fillna(prop_location_score2_mean)"
      ],
      "metadata": {
        "colab": {
          "base_uri": "https://localhost:8080/"
        },
        "id": "Zlhb3tWTBGU6",
        "outputId": "d2c0b5cc-be8a-4290-a5c0-2406131d6ccd"
      },
      "execution_count": 13,
      "outputs": [
        {
          "output_type": "stream",
          "name": "stderr",
          "text": [
            "<ipython-input-13-4180ffe2697b>:3: SettingWithCopyWarning: \n",
            "A value is trying to be set on a copy of a slice from a DataFrame.\n",
            "Try using .loc[row_indexer,col_indexer] = value instead\n",
            "\n",
            "See the caveats in the documentation: https://pandas.pydata.org/pandas-docs/stable/user_guide/indexing.html#returning-a-view-versus-a-copy\n",
            "  data_filtered[\"prop_review_score\"]=data_filtered[\"prop_review_score\"].fillna(prop_review_score_mean)\n",
            "<ipython-input-13-4180ffe2697b>:4: SettingWithCopyWarning: \n",
            "A value is trying to be set on a copy of a slice from a DataFrame.\n",
            "Try using .loc[row_indexer,col_indexer] = value instead\n",
            "\n",
            "See the caveats in the documentation: https://pandas.pydata.org/pandas-docs/stable/user_guide/indexing.html#returning-a-view-versus-a-copy\n",
            "  data_filtered[\"prop_location_score2\"]=data_filtered[\"prop_location_score2\"].fillna(prop_location_score2_mean)\n"
          ]
        }
      ]
    },
    {
      "cell_type": "code",
      "source": [
        "data_filtered.isna().sum()"
      ],
      "metadata": {
        "colab": {
          "base_uri": "https://localhost:8080/"
        },
        "id": "lRJkacHhBGZP",
        "outputId": "e32c8700-87c9-4099-fa44-9883e08c5c43"
      },
      "execution_count": 14,
      "outputs": [
        {
          "output_type": "execute_result",
          "data": {
            "text/plain": [
              "srch_id                        0\n",
              "date_time                      0\n",
              "site_id                        0\n",
              "visitor_location_country_id    0\n",
              "prop_country_id                0\n",
              "prop_id                        0\n",
              "prop_starrating                0\n",
              "prop_review_score              0\n",
              "prop_brand_bool                0\n",
              "prop_location_score1           0\n",
              "prop_location_score2           0\n",
              "prop_log_historical_price      0\n",
              "price_usd                      0\n",
              "promotion_flag                 0\n",
              "srch_destination_id            0\n",
              "srch_length_of_stay            0\n",
              "srch_booking_window            0\n",
              "srch_adults_count              0\n",
              "srch_children_count            0\n",
              "srch_room_count                0\n",
              "srch_saturday_night_bool       0\n",
              "random_bool                    0\n",
              "month                          0\n",
              "Year                           0\n",
              "day_of_week                    0\n",
              "hour                           0\n",
              "min                            0\n",
              "dtype: int64"
            ]
          },
          "metadata": {},
          "execution_count": 14
        }
      ]
    },
    {
      "cell_type": "markdown",
      "source": [
        "###Splitting of Dataset for training and testing"
      ],
      "metadata": {
        "id": "FgpdpyCbJNpY"
      }
    },
    {
      "cell_type": "code",
      "source": [
        "from sklearn.preprocessing import StandardScaler\n",
        "scaler=StandardScaler()"
      ],
      "metadata": {
        "id": "HH6BYn9ABGbm"
      },
      "execution_count": 15,
      "outputs": []
    },
    {
      "cell_type": "code",
      "source": [
        "x=data_filtered.drop([\"price_usd\",\"date_time\"],axis=1)\n",
        "y=data_filtered[\"price_usd\"]\n",
        "x.shape,y.shape"
      ],
      "metadata": {
        "colab": {
          "base_uri": "https://localhost:8080/"
        },
        "id": "o9luPwWr72yh",
        "outputId": "c8ff2ee0-3871-4778-c021-dfb84d05cac6"
      },
      "execution_count": 16,
      "outputs": [
        {
          "output_type": "execute_result",
          "data": {
            "text/plain": [
              "((1246635, 25), (1246635,))"
            ]
          },
          "metadata": {},
          "execution_count": 16
        }
      ]
    },
    {
      "cell_type": "code",
      "source": [
        "train_x,test_x,train_y,test_y=tts(x,y,random_state=1)"
      ],
      "metadata": {
        "id": "RL9C7Xp3_Bwd"
      },
      "execution_count": 17,
      "outputs": []
    },
    {
      "cell_type": "code",
      "source": [
        "train_x_scaled=scaler.fit_transform(train_x)\n",
        "test_x_scaled=scaler.fit_transform(test_x)"
      ],
      "metadata": {
        "id": "nWhkXFpoBGgU"
      },
      "execution_count": 18,
      "outputs": []
    },
    {
      "cell_type": "markdown",
      "source": [
        "###Implementation Of Linear Regression"
      ],
      "metadata": {
        "id": "0KbL5DUmJVlP"
      }
    },
    {
      "cell_type": "code",
      "source": [
        "from sklearn.linear_model import LinearRegression as LR\n",
        "from sklearn import metrics\n",
        "from sklearn.metrics import mean_squared_error as mse, mean_absolute_error as mae, r2_score as r2"
      ],
      "metadata": {
        "id": "Gq8Ci6I-BGd0"
      },
      "execution_count": 19,
      "outputs": []
    },
    {
      "cell_type": "code",
      "source": [
        "lr=LR()\n",
        "lr.fit(train_x_scaled,train_y)\n",
        "\n",
        "train_predict = lr.predict(train_x_scaled)\n",
        "k = mae(train_predict, train_y)\n",
        "print('Training Mean Absolute Error is', k )\n",
        "test_predict = lr.predict(test_x_scaled)\n",
        "k = mae(test_predict, test_y)\n",
        "print('Test Mean Absolute Error is', k )"
      ],
      "metadata": {
        "colab": {
          "base_uri": "https://localhost:8080/"
        },
        "id": "7vs_-cik_LCI",
        "outputId": "3ebdf04f-24b5-42d4-c37f-222cb65a8f41"
      },
      "execution_count": 15,
      "outputs": [
        {
          "output_type": "stream",
          "name": "stdout",
          "text": [
            "Training Mean Absolute Error is 42.98371112342087\n",
            "Test Mean Absolute Error is 42.945877392567965\n"
          ]
        }
      ]
    },
    {
      "cell_type": "code",
      "source": [
        "\n",
        "\n",
        "a1 = mse(train_y, train_predict)\n",
        "b1 = mse(train_y, train_predict, squared = False)\n",
        "c1 = r2(train_y, train_predict)\n",
        "e1 = mae(train_y, train_predict)\n",
        "\n",
        "a2 = mse(test_y, test_predict)\n",
        "b2 = mse(test_y, test_predict, squared = False)\n",
        "c2 = r2(test_y, test_predict)\n",
        "e2 = mae(test_y, test_predict)\n",
        "\n",
        "print(f\"Training Data Analysis:\\n\\nMean Square Error : {a1:.2f}\\nRoot Mean Square Error : {b1:.2f}\\nR2 Score : {c1:.2f}\\nMean Absolute Error : {e1:.2f}\\n\")\n",
        "print(f\"Test Data Analysis:\\n\\nMean Square Error : {a2:.2f}\\nRoot Mean Square Error : {b2:.2f}\\nR2 Score : {c2:.2f}\\nMean Absolute Error : {e2:.2f}\")"
      ],
      "metadata": {
        "colab": {
          "base_uri": "https://localhost:8080/"
        },
        "id": "OUuV4-L2_iBR",
        "outputId": "02a18cff-c771-401e-9b69-7f242ccefc1c"
      },
      "execution_count": 16,
      "outputs": [
        {
          "output_type": "stream",
          "name": "stdout",
          "text": [
            "Training Data Analysis:\n",
            "\n",
            "Mean Square Error : 3086.99\n",
            "Root Mean Square Error : 55.56\n",
            "R2 Score : 0.30\n",
            "Mean Absolute Error : 42.98\n",
            "\n",
            "Test Data Analysis:\n",
            "\n",
            "Mean Square Error : 3082.51\n",
            "Root Mean Square Error : 55.52\n",
            "R2 Score : 0.29\n",
            "Mean Absolute Error : 42.95\n"
          ]
        }
      ]
    },
    {
      "cell_type": "markdown",
      "source": [
        "###Implementation Of Linear Regression with Lasso regularisation"
      ],
      "metadata": {
        "id": "u7HgYaHtJby_"
      }
    },
    {
      "cell_type": "code",
      "source": [
        "from sklearn.linear_model import Lasso, Ridge, SGDRegressor\n",
        "\n",
        "regressor = Lasso(alpha=0.007)\n",
        "\n",
        "regressor.fit(train_x_scaled,train_y)\n",
        "\n",
        "y_train_pred = regressor.predict(train_x_scaled)\n",
        "y_test_pred = regressor.predict(test_x_scaled)\n",
        "\n",
        "a1 = mse(train_y, y_train_pred)\n",
        "b1 = mse(train_y, y_train_pred, squared = False)\n",
        "c1 = r2(train_y, y_train_pred)\n",
        "e1 = mae(train_y, y_train_pred)\n",
        "\n",
        "a2 = mse(test_y, y_test_pred)\n",
        "b2 = mse(test_y, y_test_pred, squared = False)\n",
        "c2 = r2(test_y, y_test_pred)\n",
        "e2 = mae(test_y, y_test_pred)\n",
        "\n",
        "print(f\"Training Data Analysis:\\n\\nMean Square Error : {a1:.2f}\\nRoot Mean Square Error : {b1:.2f}\\nR2 Score : {c1:.2f}\\nMean Absolute Error : {e1:.2f}\\n\")\n",
        "print(f\"Test Data Analysis:\\n\\nMean Square Error : {a2:.2f}\\nRoot Mean Square Error : {b2:.2f}\\nR2 Score : {c2:.2f}\\nMean Absolute Error : {e2:.2f}\")"
      ],
      "metadata": {
        "colab": {
          "base_uri": "https://localhost:8080/"
        },
        "id": "rO30AGqR53B6",
        "outputId": "66bdb1ba-4d90-4a9f-f7c9-a333926310ed"
      },
      "execution_count": 17,
      "outputs": [
        {
          "output_type": "stream",
          "name": "stdout",
          "text": [
            "Training Data Analysis:\n",
            "\n",
            "Mean Square Error : 3086.99\n",
            "Root Mean Square Error : 55.56\n",
            "R2 Score : 0.30\n",
            "Mean Absolute Error : 42.98\n",
            "\n",
            "Test Data Analysis:\n",
            "\n",
            "Mean Square Error : 3082.54\n",
            "Root Mean Square Error : 55.52\n",
            "R2 Score : 0.29\n",
            "Mean Absolute Error : 42.95\n"
          ]
        }
      ]
    },
    {
      "cell_type": "markdown",
      "source": [
        "###Implementation Of Linear Regression with Ridge regularisation"
      ],
      "metadata": {
        "id": "ND85kSfoJk0R"
      }
    },
    {
      "cell_type": "code",
      "source": [
        "regressor = Ridge(alpha=0.007)\n",
        "\n",
        "regressor.fit(train_x_scaled,train_y)\n",
        "\n",
        "y_train_pred = regressor.predict(train_x_scaled)\n",
        "y_test_pred = regressor.predict(test_x_scaled)\n",
        "\n",
        "a1 = mse(train_y, y_train_pred)\n",
        "b1 = mse(train_y, y_train_pred, squared = False)\n",
        "c1 = r2(train_y, y_train_pred)\n",
        "e1 = mae(train_y, y_train_pred)\n",
        "\n",
        "a2 = mse(test_y, y_test_pred)\n",
        "b2 = mse(test_y, y_test_pred, squared = False)\n",
        "c2 = r2(test_y, y_test_pred)\n",
        "e2 = mae(test_y, y_test_pred)\n",
        "\n",
        "print(f\"Training Data Analysis:\\n\\nMean Square Error : {a1:.2f}\\nRoot Mean Square Error : {b1:.2f}\\nR2 Score : {c1:.2f}\\nMean Absolute Error : {e1:.2f}\\n\")\n",
        "print(f\"Test Data Analysis:\\n\\nMean Square Error : {a2:.2f}\\nRoot Mean Square Error : {b2:.2f}\\nR2 Score : {c2:.2f}\\nMean Absolute Error : {e2:.2f}\")"
      ],
      "metadata": {
        "colab": {
          "base_uri": "https://localhost:8080/"
        },
        "id": "aABcDX7l81U3",
        "outputId": "4f0fbba2-dc81-4758-ca2b-d4eccf745885"
      },
      "execution_count": 18,
      "outputs": [
        {
          "output_type": "stream",
          "name": "stdout",
          "text": [
            "Training Data Analysis:\n",
            "\n",
            "Mean Square Error : 3086.99\n",
            "Root Mean Square Error : 55.56\n",
            "R2 Score : 0.30\n",
            "Mean Absolute Error : 42.98\n",
            "\n",
            "Test Data Analysis:\n",
            "\n",
            "Mean Square Error : 3082.51\n",
            "Root Mean Square Error : 55.52\n",
            "R2 Score : 0.29\n",
            "Mean Absolute Error : 42.95\n"
          ]
        }
      ]
    },
    {
      "cell_type": "markdown",
      "source": [
        "###Implementation Of Decision Tree Regressor"
      ],
      "metadata": {
        "id": "8SfVBKycJpPh"
      }
    },
    {
      "cell_type": "code",
      "source": [
        "from sklearn.metrics import accuracy_score\n",
        "from sklearn.tree import DecisionTreeRegressor\n",
        "from sklearn.model_selection import GridSearchCV\n",
        "\n",
        "decision_tree = DecisionTreeRegressor(random_state=3)\n",
        "\n",
        "decision_tree.fit(train_x_scaled,train_y)\n",
        "\n",
        "predictions_train = decision_tree.predict(train_x_scaled)\n",
        "predictions_test = decision_tree.predict(test_x_scaled)\n"
      ],
      "metadata": {
        "id": "uMFPzbCH9_UC"
      },
      "execution_count": 26,
      "outputs": []
    },
    {
      "cell_type": "code",
      "source": [
        "a1 = mse(train_y, predictions_train)\n",
        "b1 = mse(train_y, predictions_train, squared = False)\n",
        "c1 = r2(train_y, predictions_train)\n",
        "e1 = mae(train_y, predictions_train)\n",
        "\n",
        "a2 = mse(test_y, predictions_test)\n",
        "b2 = mse(test_y, predictions_test, squared = False)\n",
        "c2 = r2(test_y, predictions_test)\n",
        "e2 = mae(test_y, predictions_test)\n",
        "\n",
        "print(f\"Training Data Analysis:\\n\\nMean Square Error : {a1:.2f}\\nRoot Mean Square Error : {b1:.2f}\\nR2 Score : {c1:.2f}\\nMean Absolute Error : {e1:.2f}\\n\")\n",
        "print(f\"Test Data Analysis:\\n\\nMean Square Error : {a2:.2f}\\nRoot Mean Square Error : {b2:.2f}\\nR2 Score : {c2:.2f}\\nMean Absolute Error : {e2:.2f}\")"
      ],
      "metadata": {
        "colab": {
          "base_uri": "https://localhost:8080/"
        },
        "id": "uI_zJl2QFIx4",
        "outputId": "dfe39d38-ca94-41f0-e917-4eda4c845df9"
      },
      "execution_count": 27,
      "outputs": [
        {
          "output_type": "stream",
          "name": "stdout",
          "text": [
            "Training Data Analysis:\n",
            "\n",
            "Mean Square Error : 0.00\n",
            "Root Mean Square Error : 0.00\n",
            "R2 Score : 1.00\n",
            "Mean Absolute Error : 0.00\n",
            "\n",
            "Test Data Analysis:\n",
            "\n",
            "Mean Square Error : 3097.06\n",
            "Root Mean Square Error : 55.65\n",
            "R2 Score : 0.29\n",
            "Mean Absolute Error : 39.09\n"
          ]
        }
      ]
    },
    {
      "cell_type": "markdown",
      "source": [
        "###Finding best hyperparameters for Decision Tree Regressor"
      ],
      "metadata": {
        "id": "h-84vcryJxB2"
      }
    },
    {
      "cell_type": "code",
      "source": [
        "param_grid = {\n",
        "    'max_depth': [None, 5, 10, 15],\n",
        "    'min_samples_split': [2, 5, 10],\n",
        "    'min_samples_leaf': [1, 2, 4],\n",
        "    'max_features':['sqrt',None]\n",
        "}\n",
        "\n",
        "grid_search = GridSearchCV(decision_tree, param_grid, cv=5, scoring='neg_mean_squared_error', n_jobs=-1)\n",
        "\n",
        "grid_search.fit(train_x_scaled,train_y)\n",
        "\n",
        "best_params = grid_search.best_params_\n",
        "print(f\"Best Hyperparameters: {best_params}\")\n",
        "\n",
        "# Use the best model found by GridSearchCV\n",
        "best_model = grid_search.best_estimator_\n",
        "\n",
        "predictions_test = best_model.predict(test_x_scaled)\n",
        "\n",
        "a2 = mse(test_y, predictions_test)\n",
        "b2 = mse(test_y, predictions_test, squared = False)\n",
        "c2 = r2(test_y, predictions_test)\n",
        "e2 = mae(test_y, predictions_test)\n",
        "\n",
        "print(f\"Test Data Analysis:\\n\\nMean Square Error : {a2:.2f}\\nRoot Mean Square Error : {b2:.2f}\\nR2 Score : {c2:.2f}\\nMean Absolute Error : {e2:.2f}\")"
      ],
      "metadata": {
        "id": "QPxxrrotEF-N",
        "colab": {
          "base_uri": "https://localhost:8080/"
        },
        "outputId": "88b23f96-9be6-4f0b-af32-3884b1485d84"
      },
      "execution_count": 28,
      "outputs": [
        {
          "output_type": "stream",
          "name": "stdout",
          "text": [
            "Best Hyperparameters: {'max_depth': 10, 'max_features': None, 'min_samples_leaf': 4, 'min_samples_split': 10}\n",
            "Test Data Analysis:\n",
            "\n",
            "Mean Square Error : 1857.95\n",
            "Root Mean Square Error : 43.10\n",
            "R2 Score : 0.57\n",
            "Mean Absolute Error : 31.38\n"
          ]
        }
      ]
    },
    {
      "cell_type": "markdown",
      "source": [
        "######Implementation Of Random Forest Regressor"
      ],
      "metadata": {
        "id": "f3Ucb5_7J51k"
      }
    },
    {
      "cell_type": "code",
      "source": [
        "from sklearn.ensemble import RandomForestRegressor\n",
        "\n",
        "# Define the Random Forest model\n",
        "random_forest = RandomForestRegressor(n_estimators=10,random_state=7)\n",
        "\n",
        "random_forest.fit(train_x_scaled,train_y)\n",
        "\n",
        "predictions_train = random_forest.predict(train_x_scaled)\n",
        "predictions_test = random_forest.predict(test_x_scaled)\n",
        "\n",
        "a1 = mse(train_y, predictions_train)\n",
        "b1 = mse(train_y, predictions_train, squared = False)\n",
        "c1 = r2(train_y, predictions_train)\n",
        "e1 = mae(train_y, predictions_train)\n",
        "\n",
        "a2 = mse(test_y, predictions_test)\n",
        "b2 = mse(test_y, predictions_test, squared = False)\n",
        "c2 = r2(test_y, predictions_test)\n",
        "e2 = mae(test_y, predictions_test)\n",
        "\n",
        "print(f\"Training Data Analysis:\\n\\nMean Square Error : {a1:.2f}\\nRoot Mean Square Error : {b1:.2f}\\nR2 Score : {c1:.2f}\\nMean Absolute Error : {e1:.2f}\\n\")\n",
        "print(f\"Test Data Analysis:\\n\\nMean Square Error : {a2:.2f}\\nRoot Mean Square Error : {b2:.2f}\\nR2 Score : {c2:.2f}\\nMean Absolute Error : {e2:.2f}\")"
      ],
      "metadata": {
        "colab": {
          "base_uri": "https://localhost:8080/"
        },
        "id": "DTcsr-nnEGBB",
        "outputId": "bf97573f-7f2d-4913-a894-8a26b62172bd"
      },
      "execution_count": 12,
      "outputs": [
        {
          "output_type": "stream",
          "name": "stdout",
          "text": [
            "Training Data Analysis:\n",
            "\n",
            "Mean Square Error : 296.52\n",
            "Root Mean Square Error : 17.22\n",
            "R2 Score : 0.93\n",
            "Mean Absolute Error : 11.66\n",
            "\n",
            "Test Data Analysis:\n",
            "\n",
            "Mean Square Error : 1645.13\n",
            "Root Mean Square Error : 40.56\n",
            "R2 Score : 0.62\n",
            "Mean Absolute Error : 29.31\n"
          ]
        }
      ]
    },
    {
      "cell_type": "markdown",
      "source": [
        "###Implementation Of Neural Network using sklearn library"
      ],
      "metadata": {
        "id": "e2vd0IClKAmA"
      }
    },
    {
      "cell_type": "code",
      "source": [
        "from sklearn.neural_network import MLPRegressor\n",
        "\n",
        "model = MLPRegressor(hidden_layer_sizes=(200,50), max_iter=100, activation='logistic', batch_size=2000)\n",
        "\n",
        "model.fit(train_x_scaled,train_y)"
      ],
      "metadata": {
        "id": "xNZr2IykZrkw"
      },
      "execution_count": null,
      "outputs": []
    },
    {
      "cell_type": "code",
      "source": [
        "predictions_train = model.predict(train_x_scaled)\n",
        "predictions_test = model.predict(test_x_scaled)\n",
        "\n",
        "a1 = mse(train_y, predictions_train)\n",
        "b1 = mse(train_y, predictions_train, squared = False)\n",
        "c1 = r2(train_y, predictions_train)\n",
        "e1 = mae(train_y, predictions_train)\n",
        "\n",
        "a2 = mse(test_y, predictions_test)\n",
        "b2 = mse(test_y, predictions_test, squared = False)\n",
        "c2 = r2(test_y, predictions_test)\n",
        "e2 = mae(test_y, predictions_test)\n",
        "\n",
        "print(f\"Training Data Analysis:\\n\\nMean Square Error : {a1:.2f}\\nRoot Mean Square Error : {b1:.2f}\\nR2 Score : {c1:.2f}\\nMean Absolute Error : {e1:.2f}\\n\")\n",
        "print(f\"Test Data Analysis:\\n\\nMean Square Error : {a2:.2f}\\nRoot Mean Square Error : {b2:.2f}\\nR2 Score : {c2:.2f}\\nMean Absolute Error : {e2:.2f}\")\n"
      ],
      "metadata": {
        "colab": {
          "base_uri": "https://localhost:8080/"
        },
        "id": "e30aHtnHYHU5",
        "outputId": "df94a03f-786d-4bd8-96f8-a21e428b7a5f"
      },
      "execution_count": 21,
      "outputs": [
        {
          "output_type": "stream",
          "name": "stdout",
          "text": [
            "Training Data Analysis:\n",
            "\n",
            "Mean Square Error : 1780.50\n",
            "Root Mean Square Error : 42.20\n",
            "R2 Score : 0.59\n",
            "Mean Absolute Error : 30.78\n",
            "\n",
            "Test Data Analysis:\n",
            "\n",
            "Mean Square Error : 1807.58\n",
            "Root Mean Square Error : 42.52\n",
            "R2 Score : 0.59\n",
            "Mean Absolute Error : 30.95\n"
          ]
        }
      ]
    },
    {
      "cell_type": "markdown",
      "source": [
        "###Implementation Of Neural Network using Keras library"
      ],
      "metadata": {
        "id": "9PyFw9pqKJxu"
      }
    },
    {
      "cell_type": "code",
      "source": [
        "from keras.layers import Dense, InputLayer\n",
        "from keras.models import Sequential"
      ],
      "metadata": {
        "id": "WBd04SPShC7S"
      },
      "execution_count": 20,
      "outputs": []
    },
    {
      "cell_type": "code",
      "source": [
        "model=Sequential()\n",
        "model.add(InputLayer(input_shape=(train_x.shape[1],)))\n",
        "model.add(Dense(units=100, activation=\"relu\"))\n",
        "model.add(Dense(units=100, activation=\"relu\"))\n",
        "model.add(Dense(units=100, activation=\"relu\"))\n",
        "model.add(Dense(units=1, activation=\"linear\"))"
      ],
      "metadata": {
        "id": "51KPM_bX8TT6"
      },
      "execution_count": 27,
      "outputs": []
    },
    {
      "cell_type": "code",
      "source": [
        "model.compile(optimizer=\"adam\",loss=\"mean_squared_error\", metrics=[\"mse\"])"
      ],
      "metadata": {
        "id": "keJW1Ysn8TWY"
      },
      "execution_count": 28,
      "outputs": []
    },
    {
      "cell_type": "code",
      "source": [
        "model.fit(train_x, train_y, epochs=50)"
      ],
      "metadata": {
        "colab": {
          "base_uri": "https://localhost:8080/"
        },
        "id": "jc2JIqL98TYf",
        "outputId": "84e3f1ca-c455-4c8c-98e7-4ff605fad404"
      },
      "execution_count": 29,
      "outputs": [
        {
          "output_type": "stream",
          "name": "stdout",
          "text": [
            "Epoch 1/50\n",
            "29218/29218 [==============================] - 58s 2ms/step - loss: 118139.1406 - mse: 118139.1406\n",
            "Epoch 2/50\n",
            "29218/29218 [==============================] - 57s 2ms/step - loss: 4422.2188 - mse: 4422.2188\n",
            "Epoch 3/50\n",
            "29218/29218 [==============================] - 57s 2ms/step - loss: 4258.6514 - mse: 4258.6514\n",
            "Epoch 4/50\n",
            "29218/29218 [==============================] - 58s 2ms/step - loss: 4174.3066 - mse: 4174.3066\n",
            "Epoch 5/50\n",
            "29218/29218 [==============================] - 56s 2ms/step - loss: 4050.6697 - mse: 4050.6697\n",
            "Epoch 6/50\n",
            "29218/29218 [==============================] - 56s 2ms/step - loss: 3791.8311 - mse: 3791.8311\n",
            "Epoch 7/50\n",
            "29218/29218 [==============================] - 55s 2ms/step - loss: 3660.3811 - mse: 3660.3811\n",
            "Epoch 8/50\n",
            "29218/29218 [==============================] - 55s 2ms/step - loss: 3594.9456 - mse: 3594.9456\n",
            "Epoch 9/50\n",
            "29218/29218 [==============================] - 57s 2ms/step - loss: 3535.5374 - mse: 3535.5374\n",
            "Epoch 10/50\n",
            "29218/29218 [==============================] - 57s 2ms/step - loss: 3506.6272 - mse: 3506.6272\n",
            "Epoch 11/50\n",
            "29218/29218 [==============================] - 57s 2ms/step - loss: 3478.0149 - mse: 3478.0149\n",
            "Epoch 12/50\n",
            "29218/29218 [==============================] - 56s 2ms/step - loss: 3459.8206 - mse: 3459.8206\n",
            "Epoch 13/50\n",
            "29218/29218 [==============================] - 55s 2ms/step - loss: 3430.8813 - mse: 3430.8813\n",
            "Epoch 14/50\n",
            "29218/29218 [==============================] - 55s 2ms/step - loss: 3422.4399 - mse: 3422.4399\n",
            "Epoch 15/50\n",
            "29218/29218 [==============================] - 55s 2ms/step - loss: 3391.0754 - mse: 3391.0754\n",
            "Epoch 16/50\n",
            "29218/29218 [==============================] - 55s 2ms/step - loss: 3375.0010 - mse: 3375.0010\n",
            "Epoch 17/50\n",
            "29218/29218 [==============================] - 55s 2ms/step - loss: 3370.9316 - mse: 3370.9316\n",
            "Epoch 18/50\n",
            "29218/29218 [==============================] - 55s 2ms/step - loss: 3337.3738 - mse: 3337.3738\n",
            "Epoch 19/50\n",
            "29218/29218 [==============================] - 54s 2ms/step - loss: 3338.2285 - mse: 3338.2285\n",
            "Epoch 20/50\n",
            "29218/29218 [==============================] - 54s 2ms/step - loss: 3311.2202 - mse: 3311.2202\n",
            "Epoch 21/50\n",
            "29218/29218 [==============================] - 54s 2ms/step - loss: 3319.0034 - mse: 3319.0034\n",
            "Epoch 22/50\n",
            "29218/29218 [==============================] - 55s 2ms/step - loss: 3303.0886 - mse: 3303.0886\n",
            "Epoch 23/50\n",
            "29218/29218 [==============================] - 54s 2ms/step - loss: 3286.2317 - mse: 3286.2317\n",
            "Epoch 24/50\n",
            "29218/29218 [==============================] - 54s 2ms/step - loss: 3286.6780 - mse: 3286.6780\n",
            "Epoch 25/50\n",
            "29218/29218 [==============================] - 57s 2ms/step - loss: 3259.1157 - mse: 3259.1157\n",
            "Epoch 26/50\n",
            "29218/29218 [==============================] - 58s 2ms/step - loss: 3258.3079 - mse: 3258.3079\n",
            "Epoch 27/50\n",
            "29218/29218 [==============================] - 57s 2ms/step - loss: 3256.0115 - mse: 3256.0115\n",
            "Epoch 28/50\n",
            "29218/29218 [==============================] - 58s 2ms/step - loss: 3244.9692 - mse: 3244.9692\n",
            "Epoch 29/50\n",
            "29218/29218 [==============================] - 59s 2ms/step - loss: 3253.7512 - mse: 3253.7512\n",
            "Epoch 30/50\n",
            "29218/29218 [==============================] - 56s 2ms/step - loss: 3237.4954 - mse: 3237.4954\n",
            "Epoch 31/50\n",
            "29218/29218 [==============================] - 56s 2ms/step - loss: 3234.7021 - mse: 3234.7021\n",
            "Epoch 32/50\n",
            "29218/29218 [==============================] - 57s 2ms/step - loss: 3219.4226 - mse: 3219.4226\n",
            "Epoch 33/50\n",
            "29218/29218 [==============================] - 56s 2ms/step - loss: 3220.8228 - mse: 3220.8228\n",
            "Epoch 34/50\n",
            "29218/29218 [==============================] - 57s 2ms/step - loss: 3219.7422 - mse: 3219.7422\n",
            "Epoch 35/50\n",
            "29218/29218 [==============================] - 56s 2ms/step - loss: 3196.8047 - mse: 3196.8047\n",
            "Epoch 36/50\n",
            "29218/29218 [==============================] - 54s 2ms/step - loss: 3199.8225 - mse: 3199.8225\n",
            "Epoch 37/50\n",
            "29218/29218 [==============================] - 54s 2ms/step - loss: 3194.2693 - mse: 3194.2693\n",
            "Epoch 38/50\n",
            "29218/29218 [==============================] - 54s 2ms/step - loss: 3192.9897 - mse: 3192.9897\n",
            "Epoch 39/50\n",
            "29218/29218 [==============================] - 54s 2ms/step - loss: 3180.5823 - mse: 3180.5823\n",
            "Epoch 40/50\n",
            "29218/29218 [==============================] - 54s 2ms/step - loss: 3181.3325 - mse: 3181.3325\n",
            "Epoch 41/50\n",
            "29218/29218 [==============================] - 54s 2ms/step - loss: 3177.1592 - mse: 3177.1592\n",
            "Epoch 42/50\n",
            "29218/29218 [==============================] - 54s 2ms/step - loss: 3172.9126 - mse: 3172.9126\n",
            "Epoch 43/50\n",
            "29218/29218 [==============================] - 54s 2ms/step - loss: 3174.8477 - mse: 3174.8477\n",
            "Epoch 44/50\n",
            "29218/29218 [==============================] - 54s 2ms/step - loss: 3167.1067 - mse: 3167.1067\n",
            "Epoch 45/50\n",
            "29218/29218 [==============================] - 54s 2ms/step - loss: 3160.4041 - mse: 3160.4041\n",
            "Epoch 46/50\n",
            "29218/29218 [==============================] - 54s 2ms/step - loss: 3153.4082 - mse: 3153.4082\n",
            "Epoch 47/50\n",
            "29218/29218 [==============================] - 54s 2ms/step - loss: 3153.6848 - mse: 3153.6848\n",
            "Epoch 48/50\n",
            "29218/29218 [==============================] - 54s 2ms/step - loss: 3149.6533 - mse: 3149.6533\n",
            "Epoch 49/50\n",
            "29218/29218 [==============================] - 54s 2ms/step - loss: 3157.0911 - mse: 3157.0911\n",
            "Epoch 50/50\n",
            "29218/29218 [==============================] - 54s 2ms/step - loss: 3147.2559 - mse: 3147.2559\n"
          ]
        },
        {
          "output_type": "execute_result",
          "data": {
            "text/plain": [
              "<keras.src.callbacks.History at 0x7e7f092c9990>"
            ]
          },
          "metadata": {},
          "execution_count": 29
        }
      ]
    },
    {
      "cell_type": "code",
      "source": [
        "predictions_train = model.predict(train_x)\n",
        "predictions_test = model.predict(test_x)\n",
        "\n",
        "a1 = mse(train_y, predictions_train)\n",
        "b1 = mse(train_y, predictions_train, squared = False)\n",
        "c1 = r2(train_y, predictions_train)\n",
        "e1 = mae(train_y, predictions_train)\n",
        "\n",
        "a2 = mse(test_y, predictions_test)\n",
        "b2 = mse(test_y, predictions_test, squared = False)\n",
        "c2 = r2(test_y, predictions_test)\n",
        "e2 = mae(test_y, predictions_test)\n",
        "\n",
        "print(f\"Training Data Analysis:\\n\\nMean Square Error : {a1:.2f}\\nRoot Mean Square Error : {b1:.2f}\\nR2 Score : {c1:.2f}\\nMean Absolute Error : {e1:.2f}\\n\")\n",
        "print(f\"Test Data Analysis:\\n\\nMean Square Error : {a2:.2f}\\nRoot Mean Square Error : {b2:.2f}\\nR2 Score : {c2:.2f}\\nMean Absolute Error : {e2:.2f}\")"
      ],
      "metadata": {
        "colab": {
          "base_uri": "https://localhost:8080/"
        },
        "id": "2cm2iOIe8Tb8",
        "outputId": "03152fb2-7a10-4aa2-b17e-4d8ea77178ba"
      },
      "execution_count": 30,
      "outputs": [
        {
          "output_type": "stream",
          "name": "stdout",
          "text": [
            "29218/29218 [==============================] - 39s 1ms/step\n",
            "9740/9740 [==============================] - 13s 1ms/step\n",
            "Training Data Analysis:\n",
            "\n",
            "Mean Square Error : 2960.26\n",
            "Root Mean Square Error : 54.41\n",
            "R2 Score : 0.32\n",
            "Mean Absolute Error : 41.91\n",
            "\n",
            "Test Data Analysis:\n",
            "\n",
            "Mean Square Error : 2954.13\n",
            "Root Mean Square Error : 54.35\n",
            "R2 Score : 0.32\n",
            "Mean Absolute Error : 41.86\n"
          ]
        }
      ]
    },
    {
      "cell_type": "code",
      "source": [],
      "metadata": {
        "id": "H3YEGf0ocHuB"
      },
      "execution_count": null,
      "outputs": []
    }
  ]
}